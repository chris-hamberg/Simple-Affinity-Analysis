{
 "cells": [
  {
   "cell_type": "markdown",
   "metadata": {},
   "source": [
    "# Simple Affinity Analysis\n",
    "\n",
    "<p>sources: <em>Python: Real-World Data Science [pg.635 - 643]</em></p>\n",
    "\n",
    "<p>data source: <a href='./affinity_dataset.txt'>affinity_dataset</a></p>"
   ]
  },
  {
   "cell_type": "code",
   "execution_count": 35,
   "metadata": {},
   "outputs": [],
   "source": [
    "from collections import defaultdict\n",
    "from operator import itemgetter\n",
    "import numpy as np"
   ]
  },
  {
   "cell_type": "code",
   "execution_count": 43,
   "metadata": {},
   "outputs": [],
   "source": [
    "# encode binary features into English\n",
    "features = ['bread', 'milk', 'cheese', 'apples', 'bananas']\n",
    "\n",
    "# load dataset\n",
    "X = np.loadtxt('affinity_dataset.txt')\n",
    "\n",
    "n_samples, n_features = X.shape"
   ]
  },
  {
   "cell_type": "markdown",
   "metadata": {},
   "source": [
    "A view of the dataset"
   ]
  },
  {
   "cell_type": "code",
   "execution_count": 15,
   "metadata": {
    "scrolled": true
   },
   "outputs": [
    {
     "name": "stdout",
     "output_type": "stream",
     "text": [
      "[[0. 1. 0. 0. 0.]\n",
      " [1. 1. 0. 0. 0.]\n",
      " [0. 0. 1. 0. 1.]\n",
      " [1. 1. 0. 0. 0.]\n",
      " [0. 0. 1. 1. 1.]]\n"
     ]
    }
   ],
   "source": [
    "print(X[:5])"
   ]
  },
  {
   "cell_type": "code",
   "execution_count": 36,
   "metadata": {},
   "outputs": [],
   "source": [
    "valid_rules   = defaultdict(int)\n",
    "invalid_rules = defaultdict(int)\n",
    "occurrences   = defaultdict(int)\n",
    "confidence    = defaultdict(float)"
   ]
  },
  {
   "cell_type": "markdown",
   "metadata": {},
   "source": [
    "A helper function for displaying support and confidence."
   ]
  },
  {
   "cell_type": "code",
   "execution_count": 39,
   "metadata": {},
   "outputs": [],
   "source": [
    "def calculate(sorted_X):\n",
    "    for index in range(n_features):\n",
    "        print(f'Rule: #{index + 1}')\n",
    "        premise, conclusion = sorted_X[index][0]\n",
    "        print_rule(premise, conclusion, support, confidence, features)\n",
    "        print()"
   ]
  },
  {
   "cell_type": "markdown",
   "metadata": {},
   "source": [
    "Here we calculate affinity."
   ]
  },
  {
   "cell_type": "code",
   "execution_count": 46,
   "metadata": {},
   "outputs": [],
   "source": [
    "for sample in X:\n",
    "    for premise in range(n_features):\n",
    "        if not bool(sample[premise]): continue\n",
    "        occurrences[premise] += 1\n",
    "        for conclusion in range(n_features):\n",
    "            if premise is conclusion: continue\n",
    "            elif sample[conclusion]:\n",
    "                valid_rules[(premise, conclusion)] += 1\n",
    "            else:\n",
    "                invalid_rules[(premise, conclusion)] += 1"
   ]
  },
  {
   "cell_type": "markdown",
   "metadata": {},
   "source": [
    "Calculating support and confidence for the rules."
   ]
  },
  {
   "cell_type": "code",
   "execution_count": 45,
   "metadata": {},
   "outputs": [],
   "source": [
    "support = valid_rules\n",
    "for premise, conclusion in valid_rules.keys():\n",
    "    rule = (premise, conclusion)\n",
    "    confidence[rule] = valid_rules[rule] / occurrences[premise]"
   ]
  },
  {
   "cell_type": "markdown",
   "metadata": {},
   "source": [
    "Helper function for displaying rules, support, and confidence"
   ]
  },
  {
   "cell_type": "code",
   "execution_count": 40,
   "metadata": {},
   "outputs": [],
   "source": [
    "def print_rule(premise, conclusion, support, confidence, features):\n",
    "    premise_name = features[premise]\n",
    "    conclusion_name = features[conclusion]\n",
    "    s = support[(premise, conclusion)]\n",
    "    print(f'Rule: If a person buys {premise_name}, then they will also buy {conclusion_name}')\n",
    "    print(f' - Support: {s}')\n",
    "    print(' - Confidence: {0:.3f}'.format(confidence[(premise, conclusion)]))"
   ]
  },
  {
   "cell_type": "markdown",
   "metadata": {},
   "source": [
    "First 5 rules, ordered by support"
   ]
  },
  {
   "cell_type": "code",
   "execution_count": 41,
   "metadata": {
    "scrolled": true
   },
   "outputs": [
    {
     "name": "stdout",
     "output_type": "stream",
     "text": [
      "Rule: #1\n",
      "Rule: If a person buys apples, then they will also buy bananas\n",
      " - Support: 27\n",
      " - Confidence: 0.628\n",
      "\n",
      "Rule: #2\n",
      "Rule: If a person buys bananas, then they will also buy apples\n",
      " - Support: 27\n",
      " - Confidence: 0.474\n",
      "\n",
      "Rule: #3\n",
      "Rule: If a person buys milk, then they will also buy bananas\n",
      " - Support: 27\n",
      " - Confidence: 0.519\n",
      "\n",
      "Rule: #4\n",
      "Rule: If a person buys bananas, then they will also buy milk\n",
      " - Support: 27\n",
      " - Confidence: 0.474\n",
      "\n",
      "Rule: #5\n",
      "Rule: If a person buys cheese, then they will also buy apples\n",
      " - Support: 22\n",
      " - Confidence: 0.564\n",
      "\n"
     ]
    }
   ],
   "source": [
    "sorted_support = sorted(support.items(), key=itemgetter(1), reverse=True)\n",
    "calculate(sorted_support)"
   ]
  },
  {
   "cell_type": "markdown",
   "metadata": {},
   "source": [
    "First 5 rules, ordered by confidence"
   ]
  },
  {
   "cell_type": "code",
   "execution_count": 42,
   "metadata": {},
   "outputs": [
    {
     "name": "stdout",
     "output_type": "stream",
     "text": [
      "Rule: #1\n",
      "Rule: If a person buys apples, then they will also buy bananas\n",
      " - Support: 27\n",
      " - Confidence: 0.628\n",
      "\n",
      "Rule: #2\n",
      "Rule: If a person buys bread, then they will also buy bananas\n",
      " - Support: 16\n",
      " - Confidence: 0.571\n",
      "\n",
      "Rule: #3\n",
      "Rule: If a person buys cheese, then they will also buy apples\n",
      " - Support: 22\n",
      " - Confidence: 0.564\n",
      "\n",
      "Rule: #4\n",
      "Rule: If a person buys milk, then they will also buy bananas\n",
      " - Support: 27\n",
      " - Confidence: 0.519\n",
      "\n",
      "Rule: #5\n",
      "Rule: If a person buys cheese, then they will also buy bananas\n",
      " - Support: 20\n",
      " - Confidence: 0.513\n",
      "\n"
     ]
    }
   ],
   "source": [
    "sorted_confidence = sorted(confidence.items(), key=itemgetter(1), reverse=True)\n",
    "calculate(sorted_confidence)"
   ]
  }
 ],
 "metadata": {
  "kernelspec": {
   "display_name": "Python 3",
   "language": "python",
   "name": "python3"
  },
  "language_info": {
   "codemirror_mode": {
    "name": "ipython",
    "version": 3
   },
   "file_extension": ".py",
   "mimetype": "text/x-python",
   "name": "python",
   "nbconvert_exporter": "python",
   "pygments_lexer": "ipython3",
   "version": "3.7.1"
  }
 },
 "nbformat": 4,
 "nbformat_minor": 2
}
